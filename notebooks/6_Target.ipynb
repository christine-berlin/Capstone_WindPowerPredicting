{
 "cells": [
  {
   "cell_type": "markdown",
   "metadata": {},
   "source": [
    "## 6. Target\n",
    "We compared different models. The Random Forest Regressor had the best results, so this is the model we will use \n",
    "to make the predictions for the target. <br>\n",
    "The predictions will be saved in the file ```RandomForest_Predictions.csv```. This file is needed for the visualizations \n",
    "in our dashboard.<br>\n",
    "We make the predictions with the models that we saved on the disk as ```.pkl``` files. <br>\n",
    "Alternatively we coud load the models from MLflow:<br>\n",
    "```python\n",
    "     model = mlflow.pyfunc.load_model(model_path)\n",
    "     model.predict(model_input)\n",
    "```    \n"
   ]
  },
  {
   "cell_type": "code",
   "execution_count": 18,
   "metadata": {},
   "outputs": [],
   "source": [
    "## load modules\n",
    "import pandas as pd\n",
    "import sys\n",
    "sys.path.append(\"..\")\n",
    "from modeling.features import get_feature_combinations\n",
    "from modeling.functions import predict_func, train_test_split_features, scaler_func\n",
    "from sklearn.preprocessing import MinMaxScaler\n",
    "import pickle"
   ]
  },
  {
   "cell_type": "code",
   "execution_count": 19,
   "metadata": {},
   "outputs": [],
   "source": [
    "## read data\n",
    "data = pd.read_csv('../data/GEFCom2014Data/Wind/clean_data.csv', \n",
    "                    parse_dates= ['TIMESTAMP'],\n",
    "                    index_col= 'TIMESTAMP' )"
   ]
  },
  {
   "cell_type": "code",
   "execution_count": 20,
   "metadata": {},
   "outputs": [],
   "source": [
    "# train-test-split \n",
    "data_train = data[:'2013-07-01 00:00:00']\n",
    "data_test = data['2013-07-01 01:00:00':]"
   ]
  },
  {
   "cell_type": "code",
   "execution_count": 21,
   "metadata": {},
   "outputs": [
    {
     "ename": "SyntaxError",
     "evalue": "invalid syntax (4226515735.py, line 2)",
     "output_type": "error",
     "traceback": [
      "\u001b[0;36m  File \u001b[0;32m\"/tmp/ipykernel_17781/4226515735.py\"\u001b[0;36m, line \u001b[0;32m2\u001b[0m\n\u001b[0;31m    df_model = pd.read_csv(f'../results/RandomForestRegressor.csv'mar\u001b[0m\n\u001b[0m                                                                  ^\u001b[0m\n\u001b[0;31mSyntaxError\u001b[0m\u001b[0;31m:\u001b[0m invalid syntax\n"
     ]
    }
   ],
   "source": [
    "# load model parameter\n",
    "df_model = pd.read_csv(f'../results/RandomForestRegressor.csv'mar"
   ]
  },
  {
   "cell_type": "code",
   "execution_count": null,
   "metadata": {},
   "outputs": [],
   "source": [
    "# make the predictions and save them in df_pred\n",
    "df_pred = pd.DataFrame(index=data_test[data_test.ZONEID == 1].index)\n",
    "\n",
    "for zone in data.ZONEID.unique():\n",
    "    # obtain features from the current feature combination\n",
    "    fc = df_model[df_model.ZONE == 'ZONE{}'.format(str(zone))]['FC'].values[0]\n",
    "\n",
    "    # obtain data frame for zone\n",
    "    data_train_zone = data_train[data_train.ZONEID == zone]\n",
    "    data_test_zone = data_test[data_test.ZONEID == zone]\n",
    "\n",
    "    # split in X and y\n",
    "    features = get_feature_combinations()[fc]\n",
    "    X_train, X_test, y_train, y_test = train_test_split_features(data_train, data_test, zone, features)  \n",
    "    X_train, X_test= scaler_func(X_train, X_test, MinMaxScaler())\n",
    "\n",
    "    # load the model for current windfarm \n",
    "    model = pickle.load(open('../models/model{}.pkl'.format(zone), 'rb'))\n",
    "   \n",
    "    # make prediction\n",
    "    y_pred = predict_func(model, X_test, y_test)\n",
    "    df_pred[f'Zone {zone}'] = y_pred\n",
    "    "
   ]
  },
  {
   "cell_type": "code",
   "execution_count": null,
   "metadata": {},
   "outputs": [],
   "source": [
    "df_pred"
   ]
  },
  {
   "cell_type": "code",
   "execution_count": null,
   "metadata": {},
   "outputs": [],
   "source": [
    "# save the predictions in ```RandomForest_Predictions.csv ```\n",
    "df_pred.to_csv('../results/RandomForest_Predictions.csv')"
   ]
  }
 ],
 "metadata": {
  "interpreter": {
   "hash": "f2f7753f64e9a5ea18202ac159afad03a9e7ffdb6bd0b7a7c7ce79153287d031"
  },
  "kernelspec": {
   "display_name": "Python 3.9.7 64-bit ('.venv': venv)",
   "language": "python",
   "name": "python3"
  },
  "language_info": {
   "codemirror_mode": {
    "name": "ipython",
    "version": 3
   },
   "file_extension": ".py",
   "mimetype": "text/x-python",
   "name": "python",
   "nbconvert_exporter": "python",
   "pygments_lexer": "ipython3",
   "version": "3.9.7"
  },
  "orig_nbformat": 4
 },
 "nbformat": 4,
 "nbformat_minor": 2
}
