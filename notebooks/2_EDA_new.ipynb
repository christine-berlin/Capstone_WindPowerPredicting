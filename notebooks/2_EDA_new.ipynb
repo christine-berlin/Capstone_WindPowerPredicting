{
 "cells": [
  {
   "cell_type": "markdown",
   "metadata": {},
   "source": [
    "## 2. Explanatory data analysis\n",
    "### 2.1 Data Cleaning"
   ]
  },
  {
   "cell_type": "code",
   "execution_count": 28,
   "metadata": {},
   "outputs": [],
   "source": [
    "# Import libraries\n",
    "import pandas as pd\n",
    "import numpy as np\n",
    "import seaborn as sns\n",
    "import matplotlib.pyplot as plt "
   ]
  },
  {
   "cell_type": "markdown",
   "metadata": {},
   "source": [
    "Importing the dataset"
   ]
  },
  {
   "cell_type": "code",
   "execution_count": 29,
   "metadata": {},
   "outputs": [
    {
     "data": {
      "text/html": [
       "<div>\n",
       "<style scoped>\n",
       "    .dataframe tbody tr th:only-of-type {\n",
       "        vertical-align: middle;\n",
       "    }\n",
       "\n",
       "    .dataframe tbody tr th {\n",
       "        vertical-align: top;\n",
       "    }\n",
       "\n",
       "    .dataframe thead th {\n",
       "        text-align: right;\n",
       "    }\n",
       "</style>\n",
       "<table border=\"1\" class=\"dataframe\">\n",
       "  <thead>\n",
       "    <tr style=\"text-align: right;\">\n",
       "      <th></th>\n",
       "      <th>ZONEID</th>\n",
       "      <th>TIMESTAMP</th>\n",
       "      <th>TARGETVAR</th>\n",
       "      <th>U10</th>\n",
       "      <th>V10</th>\n",
       "      <th>U100</th>\n",
       "      <th>V100</th>\n",
       "      <th>HOUR</th>\n",
       "      <th>MONTH</th>\n",
       "      <th>WEEKDAY</th>\n",
       "      <th>IS_HOLIDAY</th>\n",
       "      <th>WS10</th>\n",
       "      <th>WS100</th>\n",
       "      <th>WD10</th>\n",
       "      <th>WD100</th>\n",
       "      <th>WD100CARD</th>\n",
       "      <th>WD10CARD</th>\n",
       "      <th>U100NORM</th>\n",
       "      <th>V100NORM</th>\n",
       "    </tr>\n",
       "  </thead>\n",
       "  <tbody>\n",
       "    <tr>\n",
       "      <th>0</th>\n",
       "      <td>1</td>\n",
       "      <td>2012-01-01 01:00:00</td>\n",
       "      <td>0.000000</td>\n",
       "      <td>2.124600</td>\n",
       "      <td>-2.681966</td>\n",
       "      <td>2.864280</td>\n",
       "      <td>-3.666076</td>\n",
       "      <td>1</td>\n",
       "      <td>1</td>\n",
       "      <td>6</td>\n",
       "      <td>1</td>\n",
       "      <td>3.421530</td>\n",
       "      <td>4.652334</td>\n",
       "      <td>321.614439</td>\n",
       "      <td>321.999735</td>\n",
       "      <td>NW</td>\n",
       "      <td>NW</td>\n",
       "      <td>0.615665</td>\n",
       "      <td>-0.788008</td>\n",
       "    </tr>\n",
       "    <tr>\n",
       "      <th>1</th>\n",
       "      <td>1</td>\n",
       "      <td>2012-01-01 02:00:00</td>\n",
       "      <td>0.054879</td>\n",
       "      <td>2.521695</td>\n",
       "      <td>-1.796960</td>\n",
       "      <td>3.344859</td>\n",
       "      <td>-2.464761</td>\n",
       "      <td>2</td>\n",
       "      <td>1</td>\n",
       "      <td>6</td>\n",
       "      <td>1</td>\n",
       "      <td>3.096451</td>\n",
       "      <td>4.154892</td>\n",
       "      <td>305.473680</td>\n",
       "      <td>306.385781</td>\n",
       "      <td>NW</td>\n",
       "      <td>NW</td>\n",
       "      <td>0.805041</td>\n",
       "      <td>-0.593219</td>\n",
       "    </tr>\n",
       "    <tr>\n",
       "      <th>2</th>\n",
       "      <td>1</td>\n",
       "      <td>2012-01-01 03:00:00</td>\n",
       "      <td>0.110234</td>\n",
       "      <td>2.672210</td>\n",
       "      <td>-0.822516</td>\n",
       "      <td>3.508448</td>\n",
       "      <td>-1.214093</td>\n",
       "      <td>3</td>\n",
       "      <td>1</td>\n",
       "      <td>6</td>\n",
       "      <td>1</td>\n",
       "      <td>2.795932</td>\n",
       "      <td>3.712577</td>\n",
       "      <td>287.108562</td>\n",
       "      <td>289.088098</td>\n",
       "      <td>WNW</td>\n",
       "      <td>WNW</td>\n",
       "      <td>0.945017</td>\n",
       "      <td>-0.327022</td>\n",
       "    </tr>\n",
       "    <tr>\n",
       "      <th>3</th>\n",
       "      <td>1</td>\n",
       "      <td>2012-01-01 04:00:00</td>\n",
       "      <td>0.165116</td>\n",
       "      <td>2.457504</td>\n",
       "      <td>-0.143642</td>\n",
       "      <td>3.215233</td>\n",
       "      <td>-0.355546</td>\n",
       "      <td>4</td>\n",
       "      <td>1</td>\n",
       "      <td>6</td>\n",
       "      <td>1</td>\n",
       "      <td>2.461699</td>\n",
       "      <td>3.234831</td>\n",
       "      <td>273.345160</td>\n",
       "      <td>276.310236</td>\n",
       "      <td>W</td>\n",
       "      <td>W</td>\n",
       "      <td>0.993941</td>\n",
       "      <td>-0.109912</td>\n",
       "    </tr>\n",
       "    <tr>\n",
       "      <th>4</th>\n",
       "      <td>1</td>\n",
       "      <td>2012-01-01 05:00:00</td>\n",
       "      <td>0.156940</td>\n",
       "      <td>2.245898</td>\n",
       "      <td>0.389576</td>\n",
       "      <td>2.957678</td>\n",
       "      <td>0.332701</td>\n",
       "      <td>5</td>\n",
       "      <td>1</td>\n",
       "      <td>6</td>\n",
       "      <td>1</td>\n",
       "      <td>2.279435</td>\n",
       "      <td>2.976332</td>\n",
       "      <td>260.159324</td>\n",
       "      <td>263.581938</td>\n",
       "      <td>W</td>\n",
       "      <td>W</td>\n",
       "      <td>0.993733</td>\n",
       "      <td>0.111782</td>\n",
       "    </tr>\n",
       "  </tbody>\n",
       "</table>\n",
       "</div>"
      ],
      "text/plain": [
       "   ZONEID            TIMESTAMP  TARGETVAR       U10       V10      U100  \\\n",
       "0       1  2012-01-01 01:00:00   0.000000  2.124600 -2.681966  2.864280   \n",
       "1       1  2012-01-01 02:00:00   0.054879  2.521695 -1.796960  3.344859   \n",
       "2       1  2012-01-01 03:00:00   0.110234  2.672210 -0.822516  3.508448   \n",
       "3       1  2012-01-01 04:00:00   0.165116  2.457504 -0.143642  3.215233   \n",
       "4       1  2012-01-01 05:00:00   0.156940  2.245898  0.389576  2.957678   \n",
       "\n",
       "       V100  HOUR  MONTH  WEEKDAY  IS_HOLIDAY      WS10     WS100        WD10  \\\n",
       "0 -3.666076     1      1        6           1  3.421530  4.652334  321.614439   \n",
       "1 -2.464761     2      1        6           1  3.096451  4.154892  305.473680   \n",
       "2 -1.214093     3      1        6           1  2.795932  3.712577  287.108562   \n",
       "3 -0.355546     4      1        6           1  2.461699  3.234831  273.345160   \n",
       "4  0.332701     5      1        6           1  2.279435  2.976332  260.159324   \n",
       "\n",
       "        WD100 WD100CARD WD10CARD  U100NORM  V100NORM  \n",
       "0  321.999735        NW       NW  0.615665 -0.788008  \n",
       "1  306.385781        NW       NW  0.805041 -0.593219  \n",
       "2  289.088098       WNW      WNW  0.945017 -0.327022  \n",
       "3  276.310236         W        W  0.993941 -0.109912  \n",
       "4  263.581938         W        W  0.993733  0.111782  "
      ]
     },
     "execution_count": 29,
     "metadata": {},
     "output_type": "execute_result"
    }
   ],
   "source": [
    "#df = pd.read_csv('../data/GEFCom2014Data/Wind/raw_data_incl_features.csv', parse_dates=['TIMESTAMP'], index_col='TIMESTAMP')\n",
    "df = pd.read_csv('../data/GEFCom2014Data/Wind/raw_data_incl_features.csv')\n",
    "\n",
    "df.head()"
   ]
  },
  {
   "cell_type": "markdown",
   "metadata": {},
   "source": [
    "Inspecting tha data"
   ]
  },
  {
   "cell_type": "code",
   "execution_count": 30,
   "metadata": {},
   "outputs": [
    {
     "name": "stdout",
     "output_type": "stream",
     "text": [
      "<class 'pandas.core.frame.DataFrame'>\n",
      "RangeIndex: 175440 entries, 0 to 175439\n",
      "Data columns (total 19 columns):\n",
      " #   Column      Non-Null Count   Dtype  \n",
      "---  ------      --------------   -----  \n",
      " 0   ZONEID      175440 non-null  int64  \n",
      " 1   TIMESTAMP   175440 non-null  object \n",
      " 2   TARGETVAR   175265 non-null  float64\n",
      " 3   U10         175440 non-null  float64\n",
      " 4   V10         175440 non-null  float64\n",
      " 5   U100        175440 non-null  float64\n",
      " 6   V100        175440 non-null  float64\n",
      " 7   HOUR        175440 non-null  int64  \n",
      " 8   MONTH       175440 non-null  int64  \n",
      " 9   WEEKDAY     175440 non-null  int64  \n",
      " 10  IS_HOLIDAY  175440 non-null  int64  \n",
      " 11  WS10        175440 non-null  float64\n",
      " 12  WS100       175440 non-null  float64\n",
      " 13  WD10        175440 non-null  float64\n",
      " 14  WD100       175440 non-null  float64\n",
      " 15  WD100CARD   175440 non-null  object \n",
      " 16  WD10CARD    175440 non-null  object \n",
      " 17  U100NORM    175440 non-null  float64\n",
      " 18  V100NORM    175440 non-null  float64\n",
      "dtypes: float64(11), int64(5), object(3)\n",
      "memory usage: 25.4+ MB\n"
     ]
    }
   ],
   "source": [
    "df.info()"
   ]
  },
  {
   "cell_type": "code",
   "execution_count": 31,
   "metadata": {},
   "outputs": [
    {
     "data": {
      "text/plain": [
       "ZONEID          0\n",
       "TIMESTAMP       0\n",
       "TARGETVAR     175\n",
       "U10             0\n",
       "V10             0\n",
       "U100            0\n",
       "V100            0\n",
       "HOUR            0\n",
       "MONTH           0\n",
       "WEEKDAY         0\n",
       "IS_HOLIDAY      0\n",
       "WS10            0\n",
       "WS100           0\n",
       "WD10            0\n",
       "WD100           0\n",
       "WD100CARD       0\n",
       "WD10CARD        0\n",
       "U100NORM        0\n",
       "V100NORM        0\n",
       "dtype: int64"
      ]
     },
     "execution_count": 31,
     "metadata": {},
     "output_type": "execute_result"
    }
   ],
   "source": [
    "df.isna().sum()"
   ]
  },
  {
   "cell_type": "markdown",
   "metadata": {},
   "source": [
    "The dataset has 175 NaNs, we linearly interpolate them."
   ]
  },
  {
   "cell_type": "code",
   "execution_count": 32,
   "metadata": {},
   "outputs": [],
   "source": [
    "df.interpolate(method='linear', inplace=True)"
   ]
  },
  {
   "cell_type": "markdown",
   "metadata": {},
   "source": [
    "Creating dummy variables for ```WD100CARD ``` and ```WD10CARD ```"
   ]
  },
  {
   "cell_type": "code",
   "execution_count": 33,
   "metadata": {},
   "outputs": [],
   "source": [
    "df = pd.get_dummies(df, columns = ['WD100CARD','WD10CARD'], drop_first=True)"
   ]
  },
  {
   "cell_type": "markdown",
   "metadata": {},
   "source": [
    "Saving the cleaned dataset in ```clean_data.csv```"
   ]
  },
  {
   "cell_type": "code",
   "execution_count": 34,
   "metadata": {},
   "outputs": [],
   "source": [
    "# Save cleaned dataframe including to csv\n",
    "df.to_csv('../data/GEFCom2014Data/Wind/clean_data.csv', index = False)"
   ]
  },
  {
   "cell_type": "markdown",
   "metadata": {},
   "source": [
    "### 2.2 EDA"
   ]
  },
  {
   "cell_type": "markdown",
   "metadata": {},
   "source": [
    "The dateframe has ~175 K obersavtions in total, and ~17,5 K observations per windfarm. "
   ]
  },
  {
   "cell_type": "code",
   "execution_count": 35,
   "metadata": {},
   "outputs": [
    {
     "data": {
      "text/plain": [
       "(175440, 47)"
      ]
     },
     "execution_count": 35,
     "metadata": {},
     "output_type": "execute_result"
    }
   ],
   "source": [
    "df.shape"
   ]
  },
  {
   "cell_type": "code",
   "execution_count": 36,
   "metadata": {},
   "outputs": [
    {
     "name": "stdout",
     "output_type": "stream",
     "text": [
      "Windfarm 1:  (17544, 47)\n",
      "Windfarm 2:  (17544, 47)\n",
      "Windfarm 3:  (17544, 47)\n",
      "Windfarm 4:  (17544, 47)\n",
      "Windfarm 5:  (17544, 47)\n",
      "Windfarm 6:  (17544, 47)\n",
      "Windfarm 7:  (17544, 47)\n",
      "Windfarm 8:  (17544, 47)\n",
      "Windfarm 9:  (17544, 47)\n",
      "Windfarm 10:  (17544, 47)\n"
     ]
    }
   ],
   "source": [
    "for zone in df.ZONEID.unique():\n",
    "    print(\"Windfarm {}: \".format(zone),df[df['ZONEID']==zone].shape)"
   ]
  },
  {
   "cell_type": "markdown",
   "metadata": {},
   "source": [
    "Distribution of the target ```TARGETVAR```"
   ]
  },
  {
   "cell_type": "code",
   "execution_count": 37,
   "metadata": {},
   "outputs": [
    {
     "data": {
      "image/png": "[encoded data removed]",
      "text/plain": [
       "<Figure size 432x288 with 1 Axes>"
      ]
     },
     "metadata": {
      "needs_background": "light"
     },
     "output_type": "display_data"
    }
   ],
   "source": [
    "sns.histplot(data = df, x= df.TARGETVAR);"
   ]
  },
  {
   "cell_type": "markdown",
   "metadata": {},
   "source": [
    "Distribution of the target on each windfarm"
   ]
  },
  {
   "cell_type": "code",
   "execution_count": 38,
   "metadata": {},
   "outputs": [
    {
     "data": {
      "image/png": "[encoded data removed]",
      "text/plain": [
       "<Figure size 1152x864 with 10 Axes>"
      ]
     },
     "metadata": {
      "needs_background": "light"
     },
     "output_type": "display_data"
    }
   ],
   "source": [
    "fig, ax = plt.subplots(nrows=2, ncols=5, figsize=(16,12))\n",
    "for zone in df.ZONEID.unique():\n",
    "    plt.subplot(2,5,zone)   \n",
    "    sns.histplot(data=df, x = df[df['ZONEID']==zone].TARGETVAR, ax=);"
   ]
  },
  {
   "cell_type": "markdown",
   "metadata": {},
   "source": [
    "Distribution of the Windspeed on 100m  ```WS100```"
   ]
  }
 ],
 "metadata": {
  "interpreter": {
   "hash": "f2f7753f64e9a5ea18202ac159afad03a9e7ffdb6bd0b7a7c7ce79153287d031"
  },
  "kernelspec": {
   "display_name": "Python 3.9.7 64-bit ('.venv': venv)",
   "language": "python",
   "name": "python3"
  },
  "language_info": {
   "codemirror_mode": {
    "name": "ipython",
    "version": 3
   },
   "file_extension": ".py",
   "mimetype": "text/x-python",
   "name": "python",
   "nbconvert_exporter": "python",
   "pygments_lexer": "ipython3",
   "version": "3.9.7"
  },
  "orig_nbformat": 4
 },
 "nbformat": 4,
 "nbformat_minor": 2
}
